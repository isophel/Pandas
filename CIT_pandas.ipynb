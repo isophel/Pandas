{
  "nbformat": 4,
  "nbformat_minor": 0,
  "metadata": {
    "colab": {
      "name": "CIT pandas.ipynb",
      "provenance": [],
      "collapsed_sections": [],
      "authorship_tag": "ABX9TyPmsPRgwBOw4c9yFdo1mvFw",
      "include_colab_link": true
    },
    "kernelspec": {
      "name": "python3",
      "display_name": "Python 3"
    },
    "language_info": {
      "name": "python"
    }
  },
  "cells": [
    {
      "cell_type": "markdown",
      "metadata": {
        "id": "view-in-github",
        "colab_type": "text"
      },
      "source": [
        "<a href=\"https://colab.research.google.com/github/isophel/Pandas/blob/main/CIT_pandas.ipynb\" target=\"_parent\"><img src=\"https://colab.research.google.com/assets/colab-badge.svg\" alt=\"Open In Colab\"/></a>"
      ]
    },
    {
      "cell_type": "code",
      "metadata": {
        "id": "XP_3KQEPBBY3",
        "colab": {
          "base_uri": "https://localhost:8080/"
        },
        "outputId": "ce8a8a39-47d7-48ef-8b31-158d5d85fc13"
      },
      "source": [
        "import pandas as pd\n",
        "import numpy as np\n",
        "\n",
        "cit = pd.read_csv(\"/employees.csv\")\n",
        "print(cit)"
      ],
      "execution_count": 2,
      "outputs": [
        {
          "output_type": "stream",
          "text": [
            "    First Name  Gender  ... Senior Management                  Team\n",
            "0      Douglas    Male  ...              True             Marketing\n",
            "1       Thomas    Male  ...              True                   NaN\n",
            "2        Maria  Female  ...             False               Finance\n",
            "3        Jerry    Male  ...              True               Finance\n",
            "4        Larry    Male  ...              True       Client Services\n",
            "..         ...     ...  ...               ...                   ...\n",
            "995      Henry     NaN  ...             False          Distribution\n",
            "996    Phillip    Male  ...             False               Finance\n",
            "997    Russell    Male  ...             False               Product\n",
            "998      Larry    Male  ...             False  Business Development\n",
            "999     Albert    Male  ...              True                 Sales\n",
            "\n",
            "[1000 rows x 8 columns]\n"
          ],
          "name": "stdout"
        }
      ]
    },
    {
      "cell_type": "code",
      "metadata": {
        "colab": {
          "base_uri": "https://localhost:8080/"
        },
        "id": "7YqnV07vMlYK",
        "outputId": "c2b53172-c22c-4372-b071-77a8b8fc4c54"
      },
      "source": [
        "import pandas as pd\n",
        "import numpy as np\n",
        "rea_ = pd.read_csv(\"/records.csv\")\n",
        "print(rea_)\n",
        "cit_dictionary = {\"name\":[\"david\",\"smith\",\"kaith\",\"larry\"],\n",
        "                  \"Grade\":[4.6,4.7,4.8,4.9],\n",
        "                  \"Location\":[\"new york\",\"kampala\",\"Abuja\",\"delhi\"]}\n",
        "cit_dataframe = pd.DataFrame(cit_dictionary)\n",
        "print(cit_dataframe,\"\\n\")\n",
        "cit_column = list(cit_dataframe)\n",
        "print(cit_column)\n",
        "for i in cit_column:\n",
        "  print(cit_dataframe[i][2],\"\\n\")\n",
        "\n",
        "cit_head = rea_.head(3)\n",
        "print(cit_head,\"\\n\")\n",
        "cit_cclmn = list(cit_head)\n",
        "for k in cit_cclmn:\n",
        "  print(cit_head[k][2])\n",
        "\n",
        "### learning missing data in pandas\n",
        "\n",
        "# 1. isnull \n",
        "cit_isnull = {\"first Team\": [200,340,250,np.nan],\n",
        "              \"Second Team\": [np.nan,200,100,400],\n",
        "              \"Third Team\":[150,np.nan,600,700]}\n",
        "cit_dt_isnull = pd.DataFrame(cit_isnull)\n",
        "print(cit_dt_isnull,\"\\n\")\n",
        "\n",
        "\n",
        "print(cit_dt_isnull.isnull(),\"\\n\")\n",
        "\n",
        "\n",
        "# 2. notnull \n",
        "#cit_notnull \n",
        "\n",
        "print(cit_dt_isnull.notnull())\n",
        "\n",
        "## fillna(specifier in int)\n",
        "## replace(to_repalce = none , value = none)\n",
        "\n",
        "cit_dict = {\"name\":[\"david\",\"smith\",\"kaith\",\"larry\"],\n",
        "                  \"Grade\":[4.6,4.7,4.8,4.9],\n",
        "                  \"Location\":[\"new york\",\"kampala\",\"Abuja\",\"delhi\"]}\n",
        "cit_data = pd.DataFrame(cit_dict)\n",
        "cit_column2 = list(cit_data)\n",
        "print(cit_column2)\n",
        "for i in cit_column2:\n",
        "  #print(cit_data[i][2],\"\\n\")\n",
        "  print(cit_data.replace(to_replace=cit_data[i][2],value=\"Mbarara\"),\"\\n\")                 \n",
        "\n"
      ],
      "execution_count": 18,
      "outputs": [
        {
          "output_type": "stream",
          "text": [
            "              Name            Team  ...            College     Salary\n",
            "0    Avery Bradley  Boston Celtics  ...              Texas  7730337.0\n",
            "1      Jae Crowder  Boston Celtics  ...          Marquette  6796117.0\n",
            "2     John Holland  Boston Celtics  ...  Boston University        NaN\n",
            "3      R.J. Hunter  Boston Celtics  ...      Georgia State  1148640.0\n",
            "4    Jonas Jerebko  Boston Celtics  ...                NaN  5000000.0\n",
            "..             ...             ...  ...                ...        ...\n",
            "453   Shelvin Mack       Utah Jazz  ...             Butler  2433333.0\n",
            "454      Raul Neto       Utah Jazz  ...                NaN   900000.0\n",
            "455   Tibor Pleiss       Utah Jazz  ...                NaN  2900000.0\n",
            "456    Jeff Withey       Utah Jazz  ...             Kansas   947276.0\n",
            "457            NaN             NaN  ...                NaN        NaN\n",
            "\n",
            "[458 rows x 9 columns]\n",
            "    name  Grade  Location\n",
            "0  david    4.6  new york\n",
            "1  smith    4.7   kampala\n",
            "2  kaith    4.8     Abuja\n",
            "3  larry    4.9     delhi \n",
            "\n",
            "['name', 'Grade', 'Location']\n",
            "kaith \n",
            "\n",
            "4.8 \n",
            "\n",
            "Abuja \n",
            "\n",
            "            Name            Team  Number  ... Weight            College     Salary\n",
            "0  Avery Bradley  Boston Celtics     0.0  ...  180.0              Texas  7730337.0\n",
            "1    Jae Crowder  Boston Celtics    99.0  ...  235.0          Marquette  6796117.0\n",
            "2   John Holland  Boston Celtics    30.0  ...  205.0  Boston University        NaN\n",
            "\n",
            "[3 rows x 9 columns] \n",
            "\n",
            "John Holland\n",
            "Boston Celtics\n",
            "30.0\n",
            "SG\n",
            "27.0\n",
            "6-5\n",
            "205.0\n",
            "Boston University\n",
            "nan\n",
            "   first Team  Second Team  Third Team\n",
            "0       200.0          NaN       150.0\n",
            "1       340.0        200.0         NaN\n",
            "2       250.0        100.0       600.0\n",
            "3         NaN        400.0       700.0 \n",
            "\n",
            "   first Team  Second Team  Third Team\n",
            "0       False         True       False\n",
            "1       False        False        True\n",
            "2       False        False       False\n",
            "3        True        False       False \n",
            "\n",
            "   first Team  Second Team  Third Team\n",
            "0        True        False        True\n",
            "1        True         True       False\n",
            "2        True         True        True\n",
            "3       False         True        True\n",
            "['name', 'Grade', 'Location']\n",
            "      name  Grade  Location\n",
            "0    david    4.6  new york\n",
            "1    smith    4.7   kampala\n",
            "2  Mbarara    4.8     Abuja\n",
            "3    larry    4.9     delhi \n",
            "\n",
            "    name    Grade  Location\n",
            "0  david      4.6  new york\n",
            "1  smith      4.7   kampala\n",
            "2  kaith  Mbarara     Abuja\n",
            "3  larry      4.9     delhi \n",
            "\n",
            "    name  Grade  Location\n",
            "0  david    4.6  new york\n",
            "1  smith    4.7   kampala\n",
            "2  kaith    4.8   Mbarara\n",
            "3  larry    4.9     delhi \n",
            "\n"
          ],
          "name": "stdout"
        }
      ]
    },
    {
      "cell_type": "code",
      "metadata": {
        "id": "Na2z27-UKYPf"
      },
      "source": [
        ""
      ],
      "execution_count": null,
      "outputs": []
    }
  ]
}